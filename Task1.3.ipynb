{
 "cells": [
  {
   "cell_type": "code",
   "execution_count": 3,
   "id": "c6f4e79c-7f95-4de2-95f2-d532e9e69069",
   "metadata": {},
   "outputs": [],
   "source": [
    "import pandas as pd\n",
    "import numpy as np"
   ]
  },
  {
   "cell_type": "code",
   "execution_count": 8,
   "id": "4bf8dea5-26e0-4e3e-8fea-4ffe49ce4b47",
   "metadata": {},
   "outputs": [
    {
     "name": "stdout",
     "output_type": "stream",
     "text": [
      "         country  population\n",
      "0          China  1444216107\n",
      "1          India  1393409038\n",
      "2  United States   332915073\n",
      "3      Indonesia   276361783\n",
      "4       Pakistan   225199937\n",
      "5         Brazil   213993437\n",
      "6        Nigeria   211400708\n",
      "7     Bangladesh   166303498\n",
      "8         Russia   145912025\n",
      "9         Mexico   130262216\n"
     ]
    }
   ],
   "source": [
    "# Create a DataFrame with countries and their populations\n",
    "data = {\n",
    "    'country': ['China', 'India', 'United States', 'Indonesia', 'Pakistan', 'Brazil', 'Nigeria', 'Bangladesh', 'Russia', 'Mexico'],\n",
    "    'population': [1444216107, 1393409038, 332915073, 276361783, 225199937, 213993437, 211400708, 166303498, 145912025, 130262216]\n",
    "}\n",
    "\n",
    "df = pd.DataFrame(data)\n",
    "print(df)"
   ]
  },
  {
   "cell_type": "code",
   "execution_count": 12,
   "id": "0ed86235-89e9-4c6d-a2a7-9cf4ffc30f86",
   "metadata": {},
   "outputs": [
    {
     "name": "stdout",
     "output_type": "stream",
     "text": [
      "         country  population  new_column\n",
      "0          China  1444216107  2888432214\n",
      "1          India  1393409038  2786818076\n",
      "2  United States   332915073   665830146\n",
      "3      Indonesia   276361783   552723566\n",
      "4       Pakistan   225199937   450399874\n",
      "5         Brazil   213993437   427986874\n",
      "6        Nigeria   211400708   422801416\n",
      "7     Bangladesh   166303498   332606996\n",
      "8         Russia   145912025   291824050\n",
      "9         Mexico   130262216   260524432\n"
     ]
    }
   ],
   "source": [
    "# Create a new column by multiplying the values in 'numeric_column' by 2 \n",
    "df['new_column'] = df['population'].apply(lambda x: x * 2)\n",
    "print(df)"
   ]
  },
  {
   "cell_type": "code",
   "execution_count": 15,
   "id": "71d76bb1-d612-4900-8e2b-f1d50e78e353",
   "metadata": {},
   "outputs": [
    {
     "name": "stdout",
     "output_type": "stream",
     "text": [
      "         country  population  new_column  flag_column\n",
      "0          China  1444216107  2888432214         True\n",
      "1          India  1393409038  2786818076         True\n",
      "2  United States   332915073   665830146         True\n",
      "3      Indonesia   276361783   552723566         True\n",
      "4       Pakistan   225199937   450399874         True\n",
      "5         Brazil   213993437   427986874         True\n",
      "6        Nigeria   211400708   422801416         True\n",
      "7     Bangladesh   166303498   332606996         True\n",
      "8         Russia   145912025   291824050         True\n",
      "9         Mexico   130262216   260524432         True\n"
     ]
    }
   ],
   "source": [
    "# Create a flag column that indicates whether the population is over 100 million\n",
    "df['flag_column'] = df['population'].apply(lambda x: x > 100000000)\n",
    "\n",
    "# Print the updated DataFrame\n",
    "print(df)"
   ]
  }
 ],
 "metadata": {
  "kernelspec": {
   "display_name": "Python [conda env:20th_century]",
   "language": "python",
   "name": "conda-env-20th_century-py"
  },
  "language_info": {
   "codemirror_mode": {
    "name": "ipython",
    "version": 3
   },
   "file_extension": ".py",
   "mimetype": "text/x-python",
   "name": "python",
   "nbconvert_exporter": "python",
   "pygments_lexer": "ipython3",
   "version": "3.13.1"
  }
 },
 "nbformat": 4,
 "nbformat_minor": 5
}
