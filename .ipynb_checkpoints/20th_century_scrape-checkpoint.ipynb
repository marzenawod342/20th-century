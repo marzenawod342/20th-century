{
 "cells": [
  {
   "cell_type": "markdown",
   "id": "8202a5f9-78d6-4a58-a337-b6eca5cd2fe0",
   "metadata": {},
   "source": [
    "### Task 1.4 Web Scraping"
   ]
  },
  {
   "cell_type": "code",
   "execution_count": 3,
   "id": "6daa1f58-fdab-4954-bbf5-ed293d549589",
   "metadata": {},
   "outputs": [],
   "source": [
    "# Import libraries\n",
    "\n",
    "import pandas as pd\n",
    "import time\n",
    "from selenium import webdriver\n",
    "from webdriver_manager.chrome import ChromeDriverManager\n",
    "from selenium.webdriver.common.by import By\n",
    "from selenium.webdriver.chrome.service import Service\n",
    "from selenium.webdriver.chrome.options import Options\n",
    "import matplotlib.pyplot as plt \n",
    "import os\n",
    "import logging\n",
    "from bs4 import BeautifulSoup\n",
    "import requests "
   ]
  },
  {
   "cell_type": "code",
   "execution_count": 4,
   "id": "8ce0321f-8a5b-4d60-863b-ea5feae0824a",
   "metadata": {},
   "outputs": [],
   "source": [
    "# Set up the Chrome service\n",
    "service  =  Service(executable_path=ChromeDriverManager().install())\n",
    "# Initialize the Chrome driver with the service\n",
    "driver = webdriver.Chrome(service=service)"
   ]
  },
  {
   "cell_type": "code",
   "execution_count": 5,
   "id": "33cbcd1f-ae2b-4df0-933c-1d2825da0bcb",
   "metadata": {},
   "outputs": [],
   "source": [
    "# Get URL\n",
    "page_url =  requests.get(\"https://en.wikipedia.org/wiki/Key_events_of_the_20th_century\")"
   ]
  },
  {
   "cell_type": "code",
   "execution_count": 6,
   "id": "934e3df5-052c-4dce-aac9-237ef131a0e7",
   "metadata": {},
   "outputs": [
    {
     "name": "stdout",
     "output_type": "stream",
     "text": [
      "<title>Key events of the 20th century - Wikipedia</title>\n"
     ]
    }
   ],
   "source": [
    "# Create soup and get title\n",
    "soup = BeautifulSoup(page_url.text, 'html.parser')\n",
    "print(soup.title)  "
   ]
  },
  {
   "cell_type": "code",
   "execution_count": 7,
   "id": "36113688-6058-41c7-8e6f-874345e4466a",
   "metadata": {},
   "outputs": [],
   "source": [
    "text = soup.get_text()\n",
    "\n",
    "text = text.encode ('utf-8')\n",
    "\n",
    "with open('20th_century_scrape.txt', 'wb') as f:\n",
    "       f.write(text)"
   ]
  }
 ],
 "metadata": {
  "kernelspec": {
   "display_name": "Python [conda env:20th_century]",
   "language": "python",
   "name": "conda-env-20th_century-py"
  },
  "language_info": {
   "codemirror_mode": {
    "name": "ipython",
    "version": 3
   },
   "file_extension": ".py",
   "mimetype": "text/x-python",
   "name": "python",
   "nbconvert_exporter": "python",
   "pygments_lexer": "ipython3",
   "version": "3.13.1"
  }
 },
 "nbformat": 4,
 "nbformat_minor": 5
}
